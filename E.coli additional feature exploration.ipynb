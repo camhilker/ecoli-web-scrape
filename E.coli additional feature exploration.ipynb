{
 "cells": [
  {
   "cell_type": "markdown",
   "metadata": {},
   "source": [
    "### Import Original Data"
   ]
  },
  {
   "cell_type": "code",
   "execution_count": 309,
   "metadata": {},
   "outputs": [],
   "source": [
    "import numpy as np\n",
    "import pandas as pd\n",
    "import matplotlib.pyplot as plt\n",
    "import seaborn as sns\n",
    "\n",
    "datafile = \"no_na_terms.csv\"\n",
    "no_na_terms = pd.read_csv(datafile)"
   ]
  },
  {
   "cell_type": "code",
   "execution_count": 259,
   "metadata": {
    "scrolled": false
   },
   "outputs": [
    {
     "data": {
      "text/html": [
       "<div>\n",
       "<style scoped>\n",
       "    .dataframe tbody tr th:only-of-type {\n",
       "        vertical-align: middle;\n",
       "    }\n",
       "\n",
       "    .dataframe tbody tr th {\n",
       "        vertical-align: top;\n",
       "    }\n",
       "\n",
       "    .dataframe thead th {\n",
       "        text-align: right;\n",
       "    }\n",
       "</style>\n",
       "<table border=\"1\" class=\"dataframe\">\n",
       "  <thead>\n",
       "    <tr style=\"text-align: right;\">\n",
       "      <th></th>\n",
       "      <th>Unnamed: 0</th>\n",
       "      <th>Year</th>\n",
       "      <th>Month</th>\n",
       "      <th>State</th>\n",
       "      <th>Primary Mode</th>\n",
       "      <th>Illnesses</th>\n",
       "      <th>Outbreak ID</th>\n",
       "      <th>Strain</th>\n",
       "      <th>Density (Pop./ mi2)</th>\n",
       "      <th>Landarea(mi2)</th>\n",
       "      <th>HDI (2017)[note 1]</th>\n",
       "      <th>HDI (1995)</th>\n",
       "      <th>Average High (F)</th>\n",
       "      <th>Average Low (F)</th>\n",
       "      <th>Length of Genome</th>\n",
       "      <th>%GC</th>\n",
       "      <th>Protein Coding Genes</th>\n",
       "      <th>Genes Overall</th>\n",
       "      <th>tRNA Genes</th>\n",
       "    </tr>\n",
       "  </thead>\n",
       "  <tbody>\n",
       "    <tr>\n",
       "      <th>0</th>\n",
       "      <td>0</td>\n",
       "      <td>2009</td>\n",
       "      <td>1</td>\n",
       "      <td>Massachusetts</td>\n",
       "      <td>Food</td>\n",
       "      <td>3</td>\n",
       "      <td>2009 1 Massachusetts</td>\n",
       "      <td>O157:H7</td>\n",
       "      <td>871</td>\n",
       "      <td>7800</td>\n",
       "      <td>0.96</td>\n",
       "      <td>0.905</td>\n",
       "      <td>39</td>\n",
       "      <td>25</td>\n",
       "      <td>5.59</td>\n",
       "      <td>50.45</td>\n",
       "      <td>5155</td>\n",
       "      <td>5417</td>\n",
       "      <td>103</td>\n",
       "    </tr>\n",
       "    <tr>\n",
       "      <th>1</th>\n",
       "      <td>1</td>\n",
       "      <td>2010</td>\n",
       "      <td>7</td>\n",
       "      <td>Massachusetts</td>\n",
       "      <td>Other</td>\n",
       "      <td>2</td>\n",
       "      <td>2010 7 Massachusetts</td>\n",
       "      <td>O157:H7</td>\n",
       "      <td>871</td>\n",
       "      <td>7800</td>\n",
       "      <td>0.96</td>\n",
       "      <td>0.905</td>\n",
       "      <td>80</td>\n",
       "      <td>65</td>\n",
       "      <td>5.59</td>\n",
       "      <td>50.45</td>\n",
       "      <td>5155</td>\n",
       "      <td>5417</td>\n",
       "      <td>103</td>\n",
       "    </tr>\n",
       "    <tr>\n",
       "      <th>2</th>\n",
       "      <td>2</td>\n",
       "      <td>2011</td>\n",
       "      <td>7</td>\n",
       "      <td>Massachusetts</td>\n",
       "      <td>Other</td>\n",
       "      <td>8</td>\n",
       "      <td>2011 7 Massachusetts</td>\n",
       "      <td>O157:H7</td>\n",
       "      <td>871</td>\n",
       "      <td>7800</td>\n",
       "      <td>0.96</td>\n",
       "      <td>0.905</td>\n",
       "      <td>80</td>\n",
       "      <td>65</td>\n",
       "      <td>5.59</td>\n",
       "      <td>50.45</td>\n",
       "      <td>5155</td>\n",
       "      <td>5417</td>\n",
       "      <td>103</td>\n",
       "    </tr>\n",
       "    <tr>\n",
       "      <th>3</th>\n",
       "      <td>3</td>\n",
       "      <td>2012</td>\n",
       "      <td>4</td>\n",
       "      <td>Massachusetts</td>\n",
       "      <td>Food</td>\n",
       "      <td>2</td>\n",
       "      <td>2012 4 Massachusetts</td>\n",
       "      <td>O157:H7</td>\n",
       "      <td>871</td>\n",
       "      <td>7800</td>\n",
       "      <td>0.96</td>\n",
       "      <td>0.905</td>\n",
       "      <td>66</td>\n",
       "      <td>50</td>\n",
       "      <td>5.59</td>\n",
       "      <td>50.45</td>\n",
       "      <td>5155</td>\n",
       "      <td>5417</td>\n",
       "      <td>103</td>\n",
       "    </tr>\n",
       "    <tr>\n",
       "      <th>4</th>\n",
       "      <td>4</td>\n",
       "      <td>2012</td>\n",
       "      <td>5</td>\n",
       "      <td>Massachusetts</td>\n",
       "      <td>Food</td>\n",
       "      <td>6</td>\n",
       "      <td>2012 5 Massachusetts</td>\n",
       "      <td>O157:H7</td>\n",
       "      <td>871</td>\n",
       "      <td>7800</td>\n",
       "      <td>0.96</td>\n",
       "      <td>0.905</td>\n",
       "      <td>76</td>\n",
       "      <td>60</td>\n",
       "      <td>5.59</td>\n",
       "      <td>50.45</td>\n",
       "      <td>5155</td>\n",
       "      <td>5417</td>\n",
       "      <td>103</td>\n",
       "    </tr>\n",
       "  </tbody>\n",
       "</table>\n",
       "</div>"
      ],
      "text/plain": [
       "   Unnamed: 0  Year  Month          State Primary Mode  Illnesses  \\\n",
       "0           0  2009      1  Massachusetts         Food          3   \n",
       "1           1  2010      7  Massachusetts        Other          2   \n",
       "2           2  2011      7  Massachusetts        Other          8   \n",
       "3           3  2012      4  Massachusetts         Food          2   \n",
       "4           4  2012      5  Massachusetts         Food          6   \n",
       "\n",
       "            Outbreak ID   Strain  Density (Pop./ mi2)  Landarea(mi2)  \\\n",
       "0  2009 1 Massachusetts  O157:H7                  871           7800   \n",
       "1  2010 7 Massachusetts  O157:H7                  871           7800   \n",
       "2  2011 7 Massachusetts  O157:H7                  871           7800   \n",
       "3  2012 4 Massachusetts  O157:H7                  871           7800   \n",
       "4  2012 5 Massachusetts  O157:H7                  871           7800   \n",
       "\n",
       "   HDI (2017)[note 1]  HDI (1995)  Average High (F)  Average Low (F)  \\\n",
       "0                0.96       0.905                39               25   \n",
       "1                0.96       0.905                80               65   \n",
       "2                0.96       0.905                80               65   \n",
       "3                0.96       0.905                66               50   \n",
       "4                0.96       0.905                76               60   \n",
       "\n",
       "   Length of Genome    %GC  Protein Coding Genes  Genes Overall  tRNA Genes  \n",
       "0              5.59  50.45                  5155           5417         103  \n",
       "1              5.59  50.45                  5155           5417         103  \n",
       "2              5.59  50.45                  5155           5417         103  \n",
       "3              5.59  50.45                  5155           5417         103  \n",
       "4              5.59  50.45                  5155           5417         103  "
      ]
     },
     "execution_count": 259,
     "metadata": {},
     "output_type": "execute_result"
    }
   ],
   "source": [
    "no_na_terms.head()"
   ]
  },
  {
   "cell_type": "markdown",
   "metadata": {},
   "source": [
    "### Bring in data from StateMaster.com for total restaurants per state"
   ]
  },
  {
   "cell_type": "code",
   "execution_count": 260,
   "metadata": {},
   "outputs": [],
   "source": [
    "from urllib.request import Request, urlopen\n",
    "\n",
    "req = Request('http://www.statemaster.com/graph/lif_res-lifestyle-resturants', headers={'User-Agent': 'Mozilla/5.0'})\n",
    "url = urlopen(req).read()"
   ]
  },
  {
   "cell_type": "code",
   "execution_count": 261,
   "metadata": {
    "scrolled": false
   },
   "outputs": [],
   "source": [
    "restaurants_raw = pd.read_html(url, header=0)[0]"
   ]
  },
  {
   "cell_type": "code",
   "execution_count": 262,
   "metadata": {
    "scrolled": true
   },
   "outputs": [
    {
     "name": "stderr",
     "output_type": "stream",
     "text": [
      "/anaconda3/envs/metis/lib/python3.6/site-packages/ipykernel_launcher.py:3: SettingWithCopyWarning: \n",
      "A value is trying to be set on a copy of a slice from a DataFrame.\n",
      "Try using .loc[row_indexer,col_indexer] = value instead\n",
      "\n",
      "See the caveats in the documentation: http://pandas.pydata.org/pandas-docs/stable/indexing.html#indexing-view-versus-copy\n",
      "  This is separate from the ipykernel package so we can avoid doing imports until\n"
     ]
    }
   ],
   "source": [
    "restaurants_raw = restaurants_raw.loc[:,['States', 'Amount']]\n",
    "restaurants_trim = restaurants_raw.iloc[51:103, :]\n",
    "restaurants_trim['States'] = restaurants_trim['States'].map(lambda x: str(x)[:-1])"
   ]
  },
  {
   "cell_type": "code",
   "execution_count": 263,
   "metadata": {},
   "outputs": [],
   "source": [
    "restaurants_trim = restaurants_trim[restaurants_trim.States != 'District of Columbia']"
   ]
  },
  {
   "cell_type": "code",
   "execution_count": 264,
   "metadata": {
    "scrolled": false
   },
   "outputs": [],
   "source": [
    "restaurants_trim = restaurants_trim.dropna().reset_index().drop('index', axis=1)"
   ]
  },
  {
   "cell_type": "code",
   "execution_count": 265,
   "metadata": {
    "scrolled": true
   },
   "outputs": [],
   "source": [
    "restaurants_trim['Amount'] = restaurants_trim['Amount'].astype(int)"
   ]
  },
  {
   "cell_type": "markdown",
   "metadata": {},
   "source": [
    "### Bring in data from StateMaster.com for % Adults who have consumed fruits and vegetables five or more times per day"
   ]
  },
  {
   "cell_type": "code",
   "execution_count": 266,
   "metadata": {},
   "outputs": [],
   "source": [
    "from urllib.request import Request, urlopen\n",
    "\n",
    "req = Request('http://www.statemaster.com/graph/hea_fru_and_veg_con-health-fruits-and-vegetables-consumption', headers={'User-Agent': 'Mozilla/5.0'})\n",
    "url = urlopen(req).read()"
   ]
  },
  {
   "cell_type": "code",
   "execution_count": 267,
   "metadata": {},
   "outputs": [],
   "source": [
    "fruit_veg_raw = pd.read_html(url, header=0)[0]"
   ]
  },
  {
   "cell_type": "code",
   "execution_count": 268,
   "metadata": {
    "scrolled": false
   },
   "outputs": [
    {
     "name": "stderr",
     "output_type": "stream",
     "text": [
      "/anaconda3/envs/metis/lib/python3.6/site-packages/ipykernel_launcher.py:3: SettingWithCopyWarning: \n",
      "A value is trying to be set on a copy of a slice from a DataFrame.\n",
      "Try using .loc[row_indexer,col_indexer] = value instead\n",
      "\n",
      "See the caveats in the documentation: http://pandas.pydata.org/pandas-docs/stable/indexing.html#indexing-view-versus-copy\n",
      "  This is separate from the ipykernel package so we can avoid doing imports until\n",
      "/anaconda3/envs/metis/lib/python3.6/site-packages/ipykernel_launcher.py:4: SettingWithCopyWarning: \n",
      "A value is trying to be set on a copy of a slice from a DataFrame.\n",
      "Try using .loc[row_indexer,col_indexer] = value instead\n",
      "\n",
      "See the caveats in the documentation: http://pandas.pydata.org/pandas-docs/stable/indexing.html#indexing-view-versus-copy\n",
      "  after removing the cwd from sys.path.\n"
     ]
    }
   ],
   "source": [
    "fruit_veg_raw = fruit_veg_raw.loc[:,['States', 'Amount']]\n",
    "fruit_veg_trim = fruit_veg_raw.iloc[51:105, :]\n",
    "fruit_veg_trim['States'] = fruit_veg_trim['States'].map(lambda x: str(x)[:-1])\n",
    "fruit_veg_trim['Amount'] = fruit_veg_trim['Amount'].map(lambda x: str(x)[:-1])"
   ]
  },
  {
   "cell_type": "code",
   "execution_count": 269,
   "metadata": {},
   "outputs": [],
   "source": [
    "fruit_veg_trim = fruit_veg_trim[fruit_veg_trim.States != 'District of Columbia']\n",
    "fruit_veg_trim = fruit_veg_trim[fruit_veg_trim.States != 'US Virgin Islands']\n",
    "fruit_veg_trim = fruit_veg_trim[fruit_veg_trim.States != 'Puerto Rico']\n",
    "fruit_veg_trim = fruit_veg_trim[fruit_veg_trim.States != 'Guam']"
   ]
  },
  {
   "cell_type": "code",
   "execution_count": 270,
   "metadata": {
    "scrolled": false
   },
   "outputs": [],
   "source": [
    "fruit_veg_trim = fruit_veg_trim[fruit_veg_trim.States != 'na'].reset_index().drop('index', axis=1)"
   ]
  },
  {
   "cell_type": "code",
   "execution_count": 271,
   "metadata": {
    "scrolled": false
   },
   "outputs": [],
   "source": [
    "fruit_veg_trim['Amount'] = fruit_veg_trim['Amount'].astype(float)"
   ]
  },
  {
   "cell_type": "markdown",
   "metadata": {},
   "source": [
    "### Merge new features to original data, drop previous features except for region and strain"
   ]
  },
  {
   "cell_type": "code",
   "execution_count": 272,
   "metadata": {},
   "outputs": [],
   "source": [
    "plus_res = no_na_terms.copy()\n",
    "plus_res = plus_res[['State','Strain','Illnesses','Average Low (F)','Landarea(mi2)']]"
   ]
  },
  {
   "cell_type": "code",
   "execution_count": 273,
   "metadata": {
    "scrolled": true
   },
   "outputs": [],
   "source": [
    "plus_res = pd.merge(plus_res, restaurants_trim, right_on='States', left_on='State')\n",
    "plus_res['Amount Restaurants'] = plus_res['Amount']\n",
    "plus_res = plus_res.drop('Amount', axis=1)\n",
    "plus_res_fruit_veg = pd.merge(plus_res, fruit_veg_trim, right_on='States', left_on='State')\n",
    "plus_res_fruit_veg['%Fruit Veg'] = plus_res_fruit_veg['Amount']"
   ]
  },
  {
   "cell_type": "code",
   "execution_count": 274,
   "metadata": {},
   "outputs": [],
   "source": [
    "plus_res_fruit_veg = plus_res_fruit_veg[['State', 'Strain', 'Amount Restaurants', '%Fruit Veg', 'Illnesses', 'Average Low (F)', 'Landarea(mi2)']]"
   ]
  },
  {
   "cell_type": "code",
   "execution_count": 275,
   "metadata": {},
   "outputs": [],
   "source": [
    "#get region again\n",
    "plus_res_fruit_veg['Region'] = plus_res_fruit_veg['State']\n",
    "plus_res_fruit_veg['Region'] = plus_res_fruit_veg['Region'].replace(['Connecticut', 'Maine', 'Massachusetts', \n",
    "                                     'New Hampshire','Rhode Island', 'Vermont', \n",
    "                                     'New Jersey', 'New York', 'Pennsylvania'], 'Northeast')\n",
    "plus_res_fruit_veg['Region'] = plus_res_fruit_veg['Region'].replace(['Illinois', 'Indiana', 'Michigan', 'Ohio', \n",
    "                                     'Wisconsin', 'Iowa', 'Kansas', 'Minnesota', \n",
    "                                     'Missouri', 'Nebraska', 'North Dakota', \n",
    "                                     'South Dakota'], 'Midwest')\n",
    "plus_res_fruit_veg['Region'] = plus_res_fruit_veg['Region'].replace(['Delaware', 'Florida', 'Georgia', 'Maryland', \n",
    "                                     'North Carolina', 'South Carolina', 'Virginia', \n",
    "                                     'West Virginia', 'Alabama', 'Kentucky', \n",
    "                                     'Mississippi', 'Tennessee', 'Arkansas', \n",
    "                                     'Louisiana', 'Oklahoma', 'Texas'], 'South')\n",
    "plus_res_fruit_veg['Region'] = plus_res_fruit_veg['Region'].replace(['Arizona', 'Colorado', 'Idaho', 'Montana', \n",
    "                                     'Nevada', 'New Mexico', 'Utah', 'Wyoming', \n",
    "                                     'Alaska', 'California', 'Hawaii', 'Oregon', \n",
    "                                     'Washington'], 'West')"
   ]
  },
  {
   "cell_type": "code",
   "execution_count": 276,
   "metadata": {
    "scrolled": false
   },
   "outputs": [
    {
     "data": {
      "text/plain": [
       "State                  object\n",
       "Strain                 object\n",
       "Amount Restaurants      int64\n",
       "%Fruit Veg            float64\n",
       "Illnesses               int64\n",
       "Average Low (F)         int64\n",
       "Landarea(mi2)           int64\n",
       "Region                 object\n",
       "dtype: object"
      ]
     },
     "execution_count": 276,
     "metadata": {},
     "output_type": "execute_result"
    }
   ],
   "source": [
    "plus_res_fruit_veg.dtypes"
   ]
  },
  {
   "cell_type": "markdown",
   "metadata": {},
   "source": [
    "### Rerun Correlations to see if anything is actually correlated this time"
   ]
  },
  {
   "cell_type": "code",
   "execution_count": 277,
   "metadata": {},
   "outputs": [],
   "source": [
    "import statsmodels.api as sm\n",
    "import statsmodels.formula.api as smf\n",
    "import patsy\n",
    "from sklearn.linear_model import LinearRegression, Lasso, Ridge\n",
    "from sklearn.linear_model import RidgeCV\n",
    "from sklearn.model_selection import train_test_split"
   ]
  },
  {
   "cell_type": "code",
   "execution_count": 278,
   "metadata": {},
   "outputs": [
    {
     "data": {
      "text/html": [
       "<div>\n",
       "<style scoped>\n",
       "    .dataframe tbody tr th:only-of-type {\n",
       "        vertical-align: middle;\n",
       "    }\n",
       "\n",
       "    .dataframe tbody tr th {\n",
       "        vertical-align: top;\n",
       "    }\n",
       "\n",
       "    .dataframe thead th {\n",
       "        text-align: right;\n",
       "    }\n",
       "</style>\n",
       "<table border=\"1\" class=\"dataframe\">\n",
       "  <thead>\n",
       "    <tr style=\"text-align: right;\">\n",
       "      <th></th>\n",
       "      <th>Amount Restaurants</th>\n",
       "      <th>%Fruit Veg</th>\n",
       "      <th>Illnesses</th>\n",
       "      <th>Average Low (F)</th>\n",
       "      <th>Landarea(mi2)</th>\n",
       "    </tr>\n",
       "  </thead>\n",
       "  <tbody>\n",
       "    <tr>\n",
       "      <th>Amount Restaurants</th>\n",
       "      <td>1.000000</td>\n",
       "      <td>0.387672</td>\n",
       "      <td>0.070730</td>\n",
       "      <td>0.105281</td>\n",
       "      <td>0.249496</td>\n",
       "    </tr>\n",
       "    <tr>\n",
       "      <th>%Fruit Veg</th>\n",
       "      <td>0.387672</td>\n",
       "      <td>1.000000</td>\n",
       "      <td>-0.021643</td>\n",
       "      <td>0.056631</td>\n",
       "      <td>-0.059360</td>\n",
       "    </tr>\n",
       "    <tr>\n",
       "      <th>Illnesses</th>\n",
       "      <td>0.070730</td>\n",
       "      <td>-0.021643</td>\n",
       "      <td>1.000000</td>\n",
       "      <td>0.043838</td>\n",
       "      <td>0.030959</td>\n",
       "    </tr>\n",
       "    <tr>\n",
       "      <th>Average Low (F)</th>\n",
       "      <td>0.105281</td>\n",
       "      <td>0.056631</td>\n",
       "      <td>0.043838</td>\n",
       "      <td>1.000000</td>\n",
       "      <td>-0.044242</td>\n",
       "    </tr>\n",
       "    <tr>\n",
       "      <th>Landarea(mi2)</th>\n",
       "      <td>0.249496</td>\n",
       "      <td>-0.059360</td>\n",
       "      <td>0.030959</td>\n",
       "      <td>-0.044242</td>\n",
       "      <td>1.000000</td>\n",
       "    </tr>\n",
       "  </tbody>\n",
       "</table>\n",
       "</div>"
      ],
      "text/plain": [
       "                    Amount Restaurants  %Fruit Veg  Illnesses  \\\n",
       "Amount Restaurants            1.000000    0.387672   0.070730   \n",
       "%Fruit Veg                    0.387672    1.000000  -0.021643   \n",
       "Illnesses                     0.070730   -0.021643   1.000000   \n",
       "Average Low (F)               0.105281    0.056631   0.043838   \n",
       "Landarea(mi2)                 0.249496   -0.059360   0.030959   \n",
       "\n",
       "                    Average Low (F)  Landarea(mi2)  \n",
       "Amount Restaurants         0.105281       0.249496  \n",
       "%Fruit Veg                 0.056631      -0.059360  \n",
       "Illnesses                  0.043838       0.030959  \n",
       "Average Low (F)            1.000000      -0.044242  \n",
       "Landarea(mi2)             -0.044242       1.000000  "
      ]
     },
     "execution_count": 278,
     "metadata": {},
     "output_type": "execute_result"
    }
   ],
   "source": [
    "plus_res_fruit_veg.corr()"
   ]
  },
  {
   "cell_type": "code",
   "execution_count": 389,
   "metadata": {},
   "outputs": [
    {
     "data": {
      "image/png": "[encoded data removed]",
      "text/plain": [
       "<Figure size 720x720 with 2 Axes>"
      ]
     },
     "metadata": {
      "needs_background": "light"
     },
     "output_type": "display_data"
    }
   ],
   "source": [
    "#a heatmap\n",
    "plt.figure(figsize = (10,10))\n",
    "sns.heatmap(plus_res_fruit_veg.corr(), cmap=sns.diverging_palette(-100, 120, s=99, l=70, sep=1, n=30), \n",
    "            annot=True, vmin=-1, vmax=1);"
   ]
  },
  {
   "cell_type": "code",
   "execution_count": 280,
   "metadata": {},
   "outputs": [
    {
     "data": {
      "text/plain": [
       "<seaborn.axisgrid.PairGrid at 0x1c1c75ad30>"
      ]
     },
     "execution_count": 280,
     "metadata": {},
     "output_type": "execute_result"
    },
    {
     "data": {
      "image/png": "[encoded data removed]",
      "text/plain": [
       "<Figure size 900x900 with 30 Axes>"
      ]
     },
     "metadata": {
      "needs_background": "light"
     },
     "output_type": "display_data"
    }
   ],
   "source": [
    "sns.pairplot(plus_res_fruit_veg)"
   ]
  },
  {
   "cell_type": "markdown",
   "metadata": {},
   "source": [
    "#### Try including log illnesses as a term"
   ]
  },
  {
   "cell_type": "code",
   "execution_count": 282,
   "metadata": {},
   "outputs": [],
   "source": [
    "rfg_log_ill = plus_res_fruit_veg.copy()\n",
    "rfg_log_ill['log illnesses'] = np.log(rfg_log_ill['Illnesses'])"
   ]
  },
  {
   "cell_type": "code",
   "execution_count": 283,
   "metadata": {},
   "outputs": [
    {
     "data": {
      "text/html": [
       "<div>\n",
       "<style scoped>\n",
       "    .dataframe tbody tr th:only-of-type {\n",
       "        vertical-align: middle;\n",
       "    }\n",
       "\n",
       "    .dataframe tbody tr th {\n",
       "        vertical-align: top;\n",
       "    }\n",
       "\n",
       "    .dataframe thead th {\n",
       "        text-align: right;\n",
       "    }\n",
       "</style>\n",
       "<table border=\"1\" class=\"dataframe\">\n",
       "  <thead>\n",
       "    <tr style=\"text-align: right;\">\n",
       "      <th></th>\n",
       "      <th>Amount Restaurants</th>\n",
       "      <th>%Fruit Veg</th>\n",
       "      <th>Illnesses</th>\n",
       "      <th>Average Low (F)</th>\n",
       "      <th>Landarea(mi2)</th>\n",
       "      <th>log illnesses</th>\n",
       "    </tr>\n",
       "  </thead>\n",
       "  <tbody>\n",
       "    <tr>\n",
       "      <th>Amount Restaurants</th>\n",
       "      <td>1.000000</td>\n",
       "      <td>0.387672</td>\n",
       "      <td>0.070730</td>\n",
       "      <td>0.105281</td>\n",
       "      <td>0.249496</td>\n",
       "      <td>0.079724</td>\n",
       "    </tr>\n",
       "    <tr>\n",
       "      <th>%Fruit Veg</th>\n",
       "      <td>0.387672</td>\n",
       "      <td>1.000000</td>\n",
       "      <td>-0.021643</td>\n",
       "      <td>0.056631</td>\n",
       "      <td>-0.059360</td>\n",
       "      <td>-0.006466</td>\n",
       "    </tr>\n",
       "    <tr>\n",
       "      <th>Illnesses</th>\n",
       "      <td>0.070730</td>\n",
       "      <td>-0.021643</td>\n",
       "      <td>1.000000</td>\n",
       "      <td>0.043838</td>\n",
       "      <td>0.030959</td>\n",
       "      <td>0.631836</td>\n",
       "    </tr>\n",
       "    <tr>\n",
       "      <th>Average Low (F)</th>\n",
       "      <td>0.105281</td>\n",
       "      <td>0.056631</td>\n",
       "      <td>0.043838</td>\n",
       "      <td>1.000000</td>\n",
       "      <td>-0.044242</td>\n",
       "      <td>0.086555</td>\n",
       "    </tr>\n",
       "    <tr>\n",
       "      <th>Landarea(mi2)</th>\n",
       "      <td>0.249496</td>\n",
       "      <td>-0.059360</td>\n",
       "      <td>0.030959</td>\n",
       "      <td>-0.044242</td>\n",
       "      <td>1.000000</td>\n",
       "      <td>0.080159</td>\n",
       "    </tr>\n",
       "    <tr>\n",
       "      <th>log illnesses</th>\n",
       "      <td>0.079724</td>\n",
       "      <td>-0.006466</td>\n",
       "      <td>0.631836</td>\n",
       "      <td>0.086555</td>\n",
       "      <td>0.080159</td>\n",
       "      <td>1.000000</td>\n",
       "    </tr>\n",
       "  </tbody>\n",
       "</table>\n",
       "</div>"
      ],
      "text/plain": [
       "                    Amount Restaurants  %Fruit Veg  Illnesses  \\\n",
       "Amount Restaurants            1.000000    0.387672   0.070730   \n",
       "%Fruit Veg                    0.387672    1.000000  -0.021643   \n",
       "Illnesses                     0.070730   -0.021643   1.000000   \n",
       "Average Low (F)               0.105281    0.056631   0.043838   \n",
       "Landarea(mi2)                 0.249496   -0.059360   0.030959   \n",
       "log illnesses                 0.079724   -0.006466   0.631836   \n",
       "\n",
       "                    Average Low (F)  Landarea(mi2)  log illnesses  \n",
       "Amount Restaurants         0.105281       0.249496       0.079724  \n",
       "%Fruit Veg                 0.056631      -0.059360      -0.006466  \n",
       "Illnesses                  0.043838       0.030959       0.631836  \n",
       "Average Low (F)            1.000000      -0.044242       0.086555  \n",
       "Landarea(mi2)             -0.044242       1.000000       0.080159  \n",
       "log illnesses              0.086555       0.080159       1.000000  "
      ]
     },
     "execution_count": 283,
     "metadata": {},
     "output_type": "execute_result"
    }
   ],
   "source": [
    "rfg_log_ill.corr()"
   ]
  },
  {
   "cell_type": "markdown",
   "metadata": {},
   "source": [
    "### Fit a base model to log illnesses"
   ]
  },
  {
   "cell_type": "code",
   "execution_count": 311,
   "metadata": {},
   "outputs": [],
   "source": [
    "def split_and_validate(X, y):\n",
    "    '''\n",
    "    For a set of features and target X, y, perform a 80/20 train/val split, \n",
    "    fit and validate a linear regression model, and report results\n",
    "    '''\n",
    "    \n",
    "    # perform train/val split\n",
    "    X_train, X_val, y_train, y_val = \\\n",
    "        train_test_split(X, y, test_size=0.2, random_state=42)\n",
    "    \n",
    "    # fit linear regression to training data\n",
    "    lr_model = LinearRegression()\n",
    "    lr_model.fit(X_train, y_train)\n",
    "    \n",
    "    # score fit model on validation data\n",
    "    train_score = lr_model.score(X_train, y_train)\n",
    "    val_score = lr_model.score(X_val, y_val)\n",
    "    \n",
    "    # report results\n",
    "    print('Train Score: ', train_score)\n",
    "    print('Validation R^2 score was:', val_score)\n",
    "    print('Feature coefficient results: \\n')\n",
    "    for feature, coef in zip(X.columns, lr_model.coef_):\n",
    "        print(feature, ':', f'{coef:.2f}')"
   ]
  },
  {
   "cell_type": "code",
   "execution_count": 312,
   "metadata": {},
   "outputs": [],
   "source": [
    "def adjusted_r_squared(X, y):\n",
    "    adj_r2 = 1 - (1-lr.score(X,y))*(len(y)-1)/(len(y)-X.shape[1]-1)\n",
    "    print(adj_r2)"
   ]
  },
  {
   "cell_type": "code",
   "execution_count": 325,
   "metadata": {},
   "outputs": [],
   "source": [
    "def sv_lasso(X, y):\n",
    "    '''\n",
    "    For a set of features and target X, y, perform a 80/20 train/val split, \n",
    "    fit and validate a linear regression model, and report results\n",
    "    '''\n",
    "    \n",
    "    # perform train/val split\n",
    "    X_train, X_val, y_train, y_val = \\\n",
    "        train_test_split(X, y, test_size=0.2, random_state=42)\n",
    "    \n",
    "    # fit linear regression to training data\n",
    "    lr_model = Lasso(alpha=0.01)\n",
    "    lr_model.fit(X_train, y_train)\n",
    "    \n",
    "    # score fit model on validation data\n",
    "    train_score = lr_model.score(X_train, y_train)\n",
    "    val_score = lr_model.score(X_val, y_val)\n",
    "    \n",
    "    # report results\n",
    "    print('Train Score: ', train_score)\n",
    "    print('Validation R^2 score was:', val_score)\n",
    "    print('Feature coefficient results: \\n')\n",
    "    for feature, coef in zip(X.columns, lr_model.coef_):\n",
    "        print(feature, ':', f'{coef:.2f}')"
   ]
  },
  {
   "cell_type": "code",
   "execution_count": 313,
   "metadata": {},
   "outputs": [
    {
     "data": {
      "text/plain": [
       "0.018111923591683232"
      ]
     },
     "execution_count": 313,
     "metadata": {},
     "output_type": "execute_result"
    }
   ],
   "source": [
    "lr = LinearRegression()\n",
    "X = (rfg_log_ill.loc[:, ['Amount Restaurants', '%Fruit Veg', \n",
    "                         'Average Low (F)', 'Landarea(mi2)']])\n",
    "y = rfg_log_ill.loc[:, 'log illnesses']\n",
    "\n",
    "# Fit the model to the full dataset\n",
    "lr.fit(X, y)\n",
    "\n",
    "# Print out the R^2 for the model against the full dataset\n",
    "lr.score(X,y)"
   ]
  },
  {
   "cell_type": "code",
   "execution_count": 314,
   "metadata": {},
   "outputs": [
    {
     "name": "stdout",
     "output_type": "stream",
     "text": [
      "0.012818726414279946\n"
     ]
    }
   ],
   "source": [
    "adjusted_r_squared(X, y)"
   ]
  },
  {
   "cell_type": "code",
   "execution_count": 315,
   "metadata": {
    "scrolled": false
   },
   "outputs": [
    {
     "name": "stdout",
     "output_type": "stream",
     "text": [
      "Train Score:  0.010810922342831764\n",
      "Validation R^2 score was: 0.042009752952948065\n",
      "Feature coefficient results: \n",
      "\n",
      "Amount Restaurants : 0.00\n",
      "%Fruit Veg : -0.01\n",
      "Average Low (F) : 0.00\n",
      "Landarea(mi2) : 0.00\n"
     ]
    }
   ],
   "source": [
    "split_and_validate(X, y)"
   ]
  },
  {
   "cell_type": "markdown",
   "metadata": {},
   "source": [
    "#### Dummy the regions and strains"
   ]
  },
  {
   "cell_type": "code",
   "execution_count": 321,
   "metadata": {},
   "outputs": [
    {
     "data": {
      "text/plain": [
       "0.04742194459537019"
      ]
     },
     "execution_count": 321,
     "metadata": {},
     "output_type": "execute_result"
    }
   ],
   "source": [
    "X2 = X.copy()\n",
    "X2['Strain'] = rfg_log_ill['Strain']\n",
    "X2['Region'] = rfg_log_ill['Region']\n",
    "X2 = pd.get_dummies(X2)\n",
    "\n",
    "# Fit the model\n",
    "lr.fit(X2, y)\n",
    "\n",
    "# Print out the R^2 for the model against the full dataset\n",
    "lr.score(X2,y)"
   ]
  },
  {
   "cell_type": "code",
   "execution_count": 322,
   "metadata": {},
   "outputs": [
    {
     "name": "stdout",
     "output_type": "stream",
     "text": [
      "0.01983002850778781\n"
     ]
    }
   ],
   "source": [
    "adjusted_r_squared(X2, y)"
   ]
  },
  {
   "cell_type": "markdown",
   "metadata": {},
   "source": [
    "# SKIP HERE FOR BEST MODEL"
   ]
  },
  {
   "cell_type": "code",
   "execution_count": 323,
   "metadata": {
    "scrolled": true
   },
   "outputs": [
    {
     "name": "stdout",
     "output_type": "stream",
     "text": [
      "Train Score:  0.04458630266760766\n",
      "Validation R^2 score was: 0.012657405196744409\n",
      "Feature coefficient results: \n",
      "\n",
      "Amount Restaurants : 0.00\n",
      "%Fruit Veg : 0.02\n",
      "Average Low (F) : 0.00\n",
      "Landarea(mi2) : 0.00\n",
      "Strain_O103 : 0.02\n",
      "Strain_O111 : 0.19\n",
      "Strain_O111:NM : -0.52\n",
      "Strain_O118:H16 : 0.00\n",
      "Strain_O121 : 0.02\n",
      "Strain_O146:H21 : 0.00\n",
      "Strain_O157 : -0.37\n",
      "Strain_O157:H7 : -0.14\n",
      "Strain_O157:NM : 0.18\n",
      "Strain_O26 : -0.13\n",
      "Strain_O26:H11 : -0.66\n",
      "Strain_O45:H2 : -0.22\n",
      "Strain_O6:H16 : 1.63\n",
      "Region_Midwest : 0.12\n",
      "Region_Northeast : -0.30\n",
      "Region_South : 0.16\n",
      "Region_West : 0.02\n"
     ]
    }
   ],
   "source": [
    "split_and_validate(X2, y)"
   ]
  },
  {
   "cell_type": "markdown",
   "metadata": {},
   "source": [
    "#### Try Lasso on this model"
   ]
  },
  {
   "cell_type": "code",
   "execution_count": 326,
   "metadata": {
    "scrolled": true
   },
   "outputs": [
    {
     "name": "stdout",
     "output_type": "stream",
     "text": [
      "Train Score:  0.022707981680335942\n",
      "Validation R^2 score was: 0.058762707922215274\n",
      "Feature coefficient results: \n",
      "\n",
      "Amount Restaurants : 0.00\n",
      "%Fruit Veg : 0.00\n",
      "Average Low (F) : 0.00\n",
      "Landarea(mi2) : 0.00\n",
      "Strain_O103 : 0.00\n",
      "Strain_O111 : 0.05\n",
      "Strain_O111:NM : -0.00\n",
      "Strain_O118:H16 : 0.00\n",
      "Strain_O121 : 0.00\n",
      "Strain_O146:H21 : 0.00\n",
      "Strain_O157 : -0.04\n",
      "Strain_O157:H7 : -0.03\n",
      "Strain_O157:NM : 0.00\n",
      "Strain_O26 : -0.00\n",
      "Strain_O26:H11 : -0.00\n",
      "Strain_O45:H2 : -0.00\n",
      "Strain_O6:H16 : 0.00\n",
      "Region_Midwest : 0.03\n",
      "Region_Northeast : -0.22\n",
      "Region_South : 0.03\n",
      "Region_West : -0.00\n"
     ]
    }
   ],
   "source": [
    "sv_lasso(X2, y)"
   ]
  }
 ],
 "metadata": {
  "kernelspec": {
   "display_name": "metis",
   "language": "python",
   "name": "metis"
  },
  "language_info": {
   "codemirror_mode": {
    "name": "ipython",
    "version": 3
   },
   "file_extension": ".py",
   "mimetype": "text/x-python",
   "name": "python",
   "nbconvert_exporter": "python",
   "pygments_lexer": "ipython3",
   "version": "3.6.8"
  },
  "toc": {
   "base_numbering": 1,
   "nav_menu": {},
   "number_sections": true,
   "sideBar": true,
   "skip_h1_title": false,
   "title_cell": "Table of Contents",
   "title_sidebar": "Contents",
   "toc_cell": false,
   "toc_position": {},
   "toc_section_display": true,
   "toc_window_display": false
  },
  "varInspector": {
   "cols": {
    "lenName": 16,
    "lenType": 16,
    "lenVar": 40
   },
   "kernels_config": {
    "python": {
     "delete_cmd_postfix": "",
     "delete_cmd_prefix": "del ",
     "library": "var_list.py",
     "varRefreshCmd": "print(var_dic_list())"
    },
    "r": {
     "delete_cmd_postfix": ") ",
     "delete_cmd_prefix": "rm(",
     "library": "var_list.r",
     "varRefreshCmd": "cat(var_dic_list()) "
    }
   },
   "types_to_exclude": [
    "module",
    "function",
    "builtin_function_or_method",
    "instance",
    "_Feature"
   ],
   "window_display": false
  }
 },
 "nbformat": 4,
 "nbformat_minor": 2
}
